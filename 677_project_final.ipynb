{
  "nbformat": 4,
  "nbformat_minor": 0,
  "metadata": {
    "colab": {
      "name": "677_project_final.ipynb",
      "provenance": [],
      "collapsed_sections": []
    },
    "kernelspec": {
      "name": "python3",
      "display_name": "Python 3"
    },
    "language_info": {
      "name": "python"
    }
  },
  "cells": [
    {
      "cell_type": "markdown",
      "source": [
        "## Youtube Videos Classification using NLP"
      ],
      "metadata": {
        "id": "UaSZE91K1LsA"
      }
    },
    {
      "cell_type": "code",
      "execution_count": null,
      "metadata": {
        "id": "SAosXbWAp99U",
        "colab": {
          "base_uri": "https://localhost:8080/"
        },
        "outputId": "8f83bb7a-978b-4a7c-ca8a-8169f529295e"
      },
      "outputs": [
        {
          "output_type": "stream",
          "name": "stdout",
          "text": [
            "[nltk_data] Downloading package punkt to /root/nltk_data...\n",
            "[nltk_data]   Unzipping tokenizers/punkt.zip.\n",
            "[nltk_data] Downloading package stopwords to /root/nltk_data...\n",
            "[nltk_data]   Unzipping corpora/stopwords.zip.\n"
          ]
        },
        {
          "output_type": "execute_result",
          "data": {
            "text/plain": [
              "True"
            ]
          },
          "metadata": {},
          "execution_count": 2
        }
      ],
      "source": [
        "# Importing necessary libraries\n",
        "import numpy as np \n",
        "import pandas as pd \n",
        "import matplotlib.pyplot as plt\n",
        "import seaborn as sns\n",
        "import nltk\n",
        "nltk.download('punkt')\n",
        "nltk.download('stopwords')"
      ]
    },
    {
      "cell_type": "code",
      "source": [
        "# Uploading the csv file to colab\n",
        "from google.colab import files\n",
        "uploaded = files.upload()"
      ],
      "metadata": {
        "colab": {
          "resources": {
            "http://localhost:8080/nbextensions/google.colab/files.js": {
              "data": "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",
              "ok": true,
              "headers": [
                [
                  "content-type",
                  "application/javascript"
                ]
              ],
              "status": 200,
              "status_text": ""
            }
          },
          "base_uri": "https://localhost:8080/",
          "height": 73
        },
        "id": "8VMCNdxiq_ob",
        "outputId": "badf247b-596a-4cf3-d36b-2f752cd84da0"
      },
      "execution_count": null,
      "outputs": [
        {
          "output_type": "display_data",
          "data": {
            "text/plain": [
              "<IPython.core.display.HTML object>"
            ],
            "text/html": [
              "\n",
              "     <input type=\"file\" id=\"files-ad62cc28-0b93-4585-83a7-48e84a057465\" name=\"files[]\" multiple disabled\n",
              "        style=\"border:none\" />\n",
              "     <output id=\"result-ad62cc28-0b93-4585-83a7-48e84a057465\">\n",
              "      Upload widget is only available when the cell has been executed in the\n",
              "      current browser session. Please rerun this cell to enable.\n",
              "      </output>\n",
              "      <script src=\"/nbextensions/google.colab/files.js\"></script> "
            ]
          },
          "metadata": {}
        },
        {
          "output_type": "stream",
          "name": "stdout",
          "text": [
            "Saving youtube.csv to youtube.csv\n"
          ]
        }
      ]
    },
    {
      "cell_type": "code",
      "source": [
        "# Data simport and sample\n",
        "data = pd.read_csv(\"youtube.csv\")\n",
        "data.head()"
      ],
      "metadata": {
        "colab": {
          "base_uri": "https://localhost:8080/",
          "height": 206
        },
        "id": "kexScgWxraeR",
        "outputId": "c5de69ec-5c7f-49b3-ea0c-52cb81716108"
      },
      "execution_count": null,
      "outputs": [
        {
          "output_type": "execute_result",
          "data": {
            "text/plain": [
              "          link                                              title  \\\n",
              "0      JLZlCZ0  Ep 1| Travelling through North East India | Of...   \n",
              "1  i9E_Blai8vk      Welcome to Bali | Travel Vlog | Priscilla Lee   \n",
              "2   r284c-q8oY  My Solo Trip to ALASKA | Cruising From Vancouv...   \n",
              "3   Qmi-Xwq-ME   Traveling to the Happiest Country in the World!!   \n",
              "4  _lcOX55Ef70  Solo in Paro Bhutan | Tiger's Nest visit | Bhu...   \n",
              "\n",
              "                                         description category  \n",
              "0  Tanya Khanijow\\n671K subscribers\\nSUBSCRIBE\\nT...   travel  \n",
              "1  Priscilla Lee\\n45.6K subscribers\\nSUBSCRIBE\\n*...   travel  \n",
              "2  Allison Anderson\\n588K subscribers\\nSUBSCRIBE\\...   travel  \n",
              "3  Yes Theory\\n6.65M subscribers\\nSUBSCRIBE\\n*BLA...   travel  \n",
              "4  Tanya Khanijow\\n671K subscribers\\nSUBSCRIBE\\nH...   travel  "
            ],
            "text/html": [
              "\n",
              "  <div id=\"df-d42ef5b9-9396-450a-8934-0bb2bc14af51\">\n",
              "    <div class=\"colab-df-container\">\n",
              "      <div>\n",
              "<style scoped>\n",
              "    .dataframe tbody tr th:only-of-type {\n",
              "        vertical-align: middle;\n",
              "    }\n",
              "\n",
              "    .dataframe tbody tr th {\n",
              "        vertical-align: top;\n",
              "    }\n",
              "\n",
              "    .dataframe thead th {\n",
              "        text-align: right;\n",
              "    }\n",
              "</style>\n",
              "<table border=\"1\" class=\"dataframe\">\n",
              "  <thead>\n",
              "    <tr style=\"text-align: right;\">\n",
              "      <th></th>\n",
              "      <th>link</th>\n",
              "      <th>title</th>\n",
              "      <th>description</th>\n",
              "      <th>category</th>\n",
              "    </tr>\n",
              "  </thead>\n",
              "  <tbody>\n",
              "    <tr>\n",
              "      <th>0</th>\n",
              "      <td>JLZlCZ0</td>\n",
              "      <td>Ep 1| Travelling through North East India | Of...</td>\n",
              "      <td>Tanya Khanijow\\n671K subscribers\\nSUBSCRIBE\\nT...</td>\n",
              "      <td>travel</td>\n",
              "    </tr>\n",
              "    <tr>\n",
              "      <th>1</th>\n",
              "      <td>i9E_Blai8vk</td>\n",
              "      <td>Welcome to Bali | Travel Vlog | Priscilla Lee</td>\n",
              "      <td>Priscilla Lee\\n45.6K subscribers\\nSUBSCRIBE\\n*...</td>\n",
              "      <td>travel</td>\n",
              "    </tr>\n",
              "    <tr>\n",
              "      <th>2</th>\n",
              "      <td>r284c-q8oY</td>\n",
              "      <td>My Solo Trip to ALASKA | Cruising From Vancouv...</td>\n",
              "      <td>Allison Anderson\\n588K subscribers\\nSUBSCRIBE\\...</td>\n",
              "      <td>travel</td>\n",
              "    </tr>\n",
              "    <tr>\n",
              "      <th>3</th>\n",
              "      <td>Qmi-Xwq-ME</td>\n",
              "      <td>Traveling to the Happiest Country in the World!!</td>\n",
              "      <td>Yes Theory\\n6.65M subscribers\\nSUBSCRIBE\\n*BLA...</td>\n",
              "      <td>travel</td>\n",
              "    </tr>\n",
              "    <tr>\n",
              "      <th>4</th>\n",
              "      <td>_lcOX55Ef70</td>\n",
              "      <td>Solo in Paro Bhutan | Tiger's Nest visit | Bhu...</td>\n",
              "      <td>Tanya Khanijow\\n671K subscribers\\nSUBSCRIBE\\nH...</td>\n",
              "      <td>travel</td>\n",
              "    </tr>\n",
              "  </tbody>\n",
              "</table>\n",
              "</div>\n",
              "      <button class=\"colab-df-convert\" onclick=\"convertToInteractive('df-d42ef5b9-9396-450a-8934-0bb2bc14af51')\"\n",
              "              title=\"Convert this dataframe to an interactive table.\"\n",
              "              style=\"display:none;\">\n",
              "        \n",
              "  <svg xmlns=\"http://www.w3.org/2000/svg\" height=\"24px\"viewBox=\"0 0 24 24\"\n",
              "       width=\"24px\">\n",
              "    <path d=\"M0 0h24v24H0V0z\" fill=\"none\"/>\n",
              "    <path d=\"M18.56 5.44l.94 2.06.94-2.06 2.06-.94-2.06-.94-.94-2.06-.94 2.06-2.06.94zm-11 1L8.5 8.5l.94-2.06 2.06-.94-2.06-.94L8.5 2.5l-.94 2.06-2.06.94zm10 10l.94 2.06.94-2.06 2.06-.94-2.06-.94-.94-2.06-.94 2.06-2.06.94z\"/><path d=\"M17.41 7.96l-1.37-1.37c-.4-.4-.92-.59-1.43-.59-.52 0-1.04.2-1.43.59L10.3 9.45l-7.72 7.72c-.78.78-.78 2.05 0 2.83L4 21.41c.39.39.9.59 1.41.59.51 0 1.02-.2 1.41-.59l7.78-7.78 2.81-2.81c.8-.78.8-2.07 0-2.86zM5.41 20L4 18.59l7.72-7.72 1.47 1.35L5.41 20z\"/>\n",
              "  </svg>\n",
              "      </button>\n",
              "      \n",
              "  <style>\n",
              "    .colab-df-container {\n",
              "      display:flex;\n",
              "      flex-wrap:wrap;\n",
              "      gap: 12px;\n",
              "    }\n",
              "\n",
              "    .colab-df-convert {\n",
              "      background-color: #E8F0FE;\n",
              "      border: none;\n",
              "      border-radius: 50%;\n",
              "      cursor: pointer;\n",
              "      display: none;\n",
              "      fill: #1967D2;\n",
              "      height: 32px;\n",
              "      padding: 0 0 0 0;\n",
              "      width: 32px;\n",
              "    }\n",
              "\n",
              "    .colab-df-convert:hover {\n",
              "      background-color: #E2EBFA;\n",
              "      box-shadow: 0px 1px 2px rgba(60, 64, 67, 0.3), 0px 1px 3px 1px rgba(60, 64, 67, 0.15);\n",
              "      fill: #174EA6;\n",
              "    }\n",
              "\n",
              "    [theme=dark] .colab-df-convert {\n",
              "      background-color: #3B4455;\n",
              "      fill: #D2E3FC;\n",
              "    }\n",
              "\n",
              "    [theme=dark] .colab-df-convert:hover {\n",
              "      background-color: #434B5C;\n",
              "      box-shadow: 0px 1px 3px 1px rgba(0, 0, 0, 0.15);\n",
              "      filter: drop-shadow(0px 1px 2px rgba(0, 0, 0, 0.3));\n",
              "      fill: #FFFFFF;\n",
              "    }\n",
              "  </style>\n",
              "\n",
              "      <script>\n",
              "        const buttonEl =\n",
              "          document.querySelector('#df-d42ef5b9-9396-450a-8934-0bb2bc14af51 button.colab-df-convert');\n",
              "        buttonEl.style.display =\n",
              "          google.colab.kernel.accessAllowed ? 'block' : 'none';\n",
              "\n",
              "        async function convertToInteractive(key) {\n",
              "          const element = document.querySelector('#df-d42ef5b9-9396-450a-8934-0bb2bc14af51');\n",
              "          const dataTable =\n",
              "            await google.colab.kernel.invokeFunction('convertToInteractive',\n",
              "                                                     [key], {});\n",
              "          if (!dataTable) return;\n",
              "\n",
              "          const docLinkHtml = 'Like what you see? Visit the ' +\n",
              "            '<a target=\"_blank\" href=https://colab.research.google.com/notebooks/data_table.ipynb>data table notebook</a>'\n",
              "            + ' to learn more about interactive tables.';\n",
              "          element.innerHTML = '';\n",
              "          dataTable['output_type'] = 'display_data';\n",
              "          await google.colab.output.renderOutput(dataTable, element);\n",
              "          const docLink = document.createElement('div');\n",
              "          docLink.innerHTML = docLinkHtml;\n",
              "          element.appendChild(docLink);\n",
              "        }\n",
              "      </script>\n",
              "    </div>\n",
              "  </div>\n",
              "  "
            ]
          },
          "metadata": {},
          "execution_count": 4
        }
      ]
    },
    {
      "cell_type": "code",
      "source": [
        "len(data)"
      ],
      "metadata": {
        "colab": {
          "base_uri": "https://localhost:8080/"
        },
        "id": "Z1JcxvleYrdg",
        "outputId": "d4a96971-e14a-440d-a9d1-848a145a6579"
      },
      "execution_count": null,
      "outputs": [
        {
          "output_type": "execute_result",
          "data": {
            "text/plain": [
              "3599"
            ]
          },
          "metadata": {},
          "execution_count": 5
        }
      ]
    },
    {
      "cell_type": "code",
      "source": [
        "# Understanding the column types\n",
        "data.info()"
      ],
      "metadata": {
        "colab": {
          "base_uri": "https://localhost:8080/"
        },
        "id": "utwKyXR9rmnc",
        "outputId": "c6079843-01bc-4b77-b015-17bcf67d2334"
      },
      "execution_count": null,
      "outputs": [
        {
          "output_type": "stream",
          "name": "stdout",
          "text": [
            "<class 'pandas.core.frame.DataFrame'>\n",
            "RangeIndex: 3599 entries, 0 to 3598\n",
            "Data columns (total 4 columns):\n",
            " #   Column       Non-Null Count  Dtype \n",
            "---  ------       --------------  ----- \n",
            " 0   link         3599 non-null   object\n",
            " 1   title        3599 non-null   object\n",
            " 2   description  3599 non-null   object\n",
            " 3   category     3599 non-null   object\n",
            "dtypes: object(4)\n",
            "memory usage: 112.6+ KB\n"
          ]
        }
      ]
    },
    {
      "cell_type": "code",
      "source": [
        "# Identifying columns with Null values (if any)\n",
        "data.isnull().sum()"
      ],
      "metadata": {
        "colab": {
          "base_uri": "https://localhost:8080/"
        },
        "id": "2qtVxTaarrd3",
        "outputId": "b4bc9bee-0e08-4162-c7fa-f81a75331918"
      },
      "execution_count": null,
      "outputs": [
        {
          "output_type": "execute_result",
          "data": {
            "text/plain": [
              "link           0\n",
              "title          0\n",
              "description    0\n",
              "category       0\n",
              "dtype: int64"
            ]
          },
          "metadata": {},
          "execution_count": 7
        }
      ]
    },
    {
      "cell_type": "code",
      "source": [
        "# Checking the catergories in the data set\n",
        "data['category'].unique()"
      ],
      "metadata": {
        "colab": {
          "base_uri": "https://localhost:8080/"
        },
        "id": "8cU_NPtGrwnO",
        "outputId": "cda647a3-99f8-4409-c925-90ef8c4dccfa"
      },
      "execution_count": null,
      "outputs": [
        {
          "output_type": "execute_result",
          "data": {
            "text/plain": [
              "array(['travel', 'food', 'art_music', 'history'], dtype=object)"
            ]
          },
          "metadata": {},
          "execution_count": 8
        }
      ]
    },
    {
      "cell_type": "code",
      "source": [
        "# Understanding the distribution of the catergory variable\n",
        "sns.countplot(data['category'])\n",
        "plt.show()"
      ],
      "metadata": {
        "colab": {
          "base_uri": "https://localhost:8080/",
          "height": 337
        },
        "id": "avGIxiS_rypq",
        "outputId": "c34b89b7-66fc-4127-da29-9673f57c79f0"
      },
      "execution_count": null,
      "outputs": [
        {
          "output_type": "stream",
          "name": "stderr",
          "text": [
            "/usr/local/lib/python3.7/dist-packages/seaborn/_decorators.py:43: FutureWarning: Pass the following variable as a keyword arg: x. From version 0.12, the only valid positional argument will be `data`, and passing other arguments without an explicit keyword will result in an error or misinterpretation.\n",
            "  FutureWarning\n"
          ]
        },
        {
          "output_type": "display_data",
          "data": {
            "text/plain": [
              "<Figure size 432x288 with 1 Axes>"
            ],
            "image/png": "[encoded data removed]"
          },
          "metadata": {
            "needs_background": "light"
          }
        }
      ]
    },
    {
      "cell_type": "code",
      "source": [
        "# Importing string library\n",
        "import string\n",
        "punct=string.punctuation\n",
        "punct"
      ],
      "metadata": {
        "colab": {
          "base_uri": "https://localhost:8080/",
          "height": 35
        },
        "id": "O0fpBbOzr0Xe",
        "outputId": "407e6a74-40f1-4c3c-e75b-c8d57aca94d4"
      },
      "execution_count": null,
      "outputs": [
        {
          "output_type": "execute_result",
          "data": {
            "text/plain": [
              "'!\"#$%&\\'()*+,-./:;<=>?@[\\\\]^_`{|}~'"
            ],
            "application/vnd.google.colaboratory.intrinsic+json": {
              "type": "string"
            }
          },
          "metadata": {},
          "execution_count": 10
        }
      ]
    },
    {
      "cell_type": "code",
      "source": [
        "# Creating a function to remove punctuations\n",
        "def remove_punct(text):\n",
        "    text_nonpunct=''.join([char for char in text if char not in punct])\n",
        "    return text_nonpunct"
      ],
      "metadata": {
        "id": "7Jv2fdVgr3D2"
      },
      "execution_count": null,
      "outputs": []
    },
    {
      "cell_type": "code",
      "source": [
        "# Applying the remove punctuations function onto the description column \n",
        "data['text_nonpunct']=data['description'].apply(lambda x:remove_punct(x.lower()))"
      ],
      "metadata": {
        "id": "sz4FaYEPr_ZR"
      },
      "execution_count": null,
      "outputs": []
    },
    {
      "cell_type": "code",
      "source": [
        "data.head()"
      ],
      "metadata": {
        "colab": {
          "base_uri": "https://localhost:8080/",
          "height": 206
        },
        "id": "7HXQn-qZsBWR",
        "outputId": "06d0b7f2-97dc-4a10-eb95-7e94632a2065"
      },
      "execution_count": null,
      "outputs": [
        {
          "output_type": "execute_result",
          "data": {
            "text/plain": [
              "          link                                              title  \\\n",
              "0      JLZlCZ0  Ep 1| Travelling through North East India | Of...   \n",
              "1  i9E_Blai8vk      Welcome to Bali | Travel Vlog | Priscilla Lee   \n",
              "2   r284c-q8oY  My Solo Trip to ALASKA | Cruising From Vancouv...   \n",
              "3   Qmi-Xwq-ME   Traveling to the Happiest Country in the World!!   \n",
              "4  _lcOX55Ef70  Solo in Paro Bhutan | Tiger's Nest visit | Bhu...   \n",
              "\n",
              "                                         description category  \\\n",
              "0  Tanya Khanijow\\n671K subscribers\\nSUBSCRIBE\\nT...   travel   \n",
              "1  Priscilla Lee\\n45.6K subscribers\\nSUBSCRIBE\\n*...   travel   \n",
              "2  Allison Anderson\\n588K subscribers\\nSUBSCRIBE\\...   travel   \n",
              "3  Yes Theory\\n6.65M subscribers\\nSUBSCRIBE\\n*BLA...   travel   \n",
              "4  Tanya Khanijow\\n671K subscribers\\nSUBSCRIBE\\nH...   travel   \n",
              "\n",
              "                                       text_nonpunct  \n",
              "0  tanya khanijow\\n671k subscribers\\nsubscribe\\nt...  \n",
              "1  priscilla lee\\n456k subscribers\\nsubscribe\\ndi...  \n",
              "2  allison anderson\\n588k subscribers\\nsubscribe\\...  \n",
              "3  yes theory\\n665m subscribers\\nsubscribe\\nblack...  \n",
              "4  tanya khanijow\\n671k subscribers\\nsubscribe\\nh...  "
            ],
            "text/html": [
              "\n",
              "  <div id=\"df-673d2dd3-847d-4a32-a05e-461bfdeaac64\">\n",
              "    <div class=\"colab-df-container\">\n",
              "      <div>\n",
              "<style scoped>\n",
              "    .dataframe tbody tr th:only-of-type {\n",
              "        vertical-align: middle;\n",
              "    }\n",
              "\n",
              "    .dataframe tbody tr th {\n",
              "        vertical-align: top;\n",
              "    }\n",
              "\n",
              "    .dataframe thead th {\n",
              "        text-align: right;\n",
              "    }\n",
              "</style>\n",
              "<table border=\"1\" class=\"dataframe\">\n",
              "  <thead>\n",
              "    <tr style=\"text-align: right;\">\n",
              "      <th></th>\n",
              "      <th>link</th>\n",
              "      <th>title</th>\n",
              "      <th>description</th>\n",
              "      <th>category</th>\n",
              "      <th>text_nonpunct</th>\n",
              "    </tr>\n",
              "  </thead>\n",
              "  <tbody>\n",
              "    <tr>\n",
              "      <th>0</th>\n",
              "      <td>JLZlCZ0</td>\n",
              "      <td>Ep 1| Travelling through North East India | Of...</td>\n",
              "      <td>Tanya Khanijow\\n671K subscribers\\nSUBSCRIBE\\nT...</td>\n",
              "      <td>travel</td>\n",
              "      <td>tanya khanijow\\n671k subscribers\\nsubscribe\\nt...</td>\n",
              "    </tr>\n",
              "    <tr>\n",
              "      <th>1</th>\n",
              "      <td>i9E_Blai8vk</td>\n",
              "      <td>Welcome to Bali | Travel Vlog | Priscilla Lee</td>\n",
              "      <td>Priscilla Lee\\n45.6K subscribers\\nSUBSCRIBE\\n*...</td>\n",
              "      <td>travel</td>\n",
              "      <td>priscilla lee\\n456k subscribers\\nsubscribe\\ndi...</td>\n",
              "    </tr>\n",
              "    <tr>\n",
              "      <th>2</th>\n",
              "      <td>r284c-q8oY</td>\n",
              "      <td>My Solo Trip to ALASKA | Cruising From Vancouv...</td>\n",
              "      <td>Allison Anderson\\n588K subscribers\\nSUBSCRIBE\\...</td>\n",
              "      <td>travel</td>\n",
              "      <td>allison anderson\\n588k subscribers\\nsubscribe\\...</td>\n",
              "    </tr>\n",
              "    <tr>\n",
              "      <th>3</th>\n",
              "      <td>Qmi-Xwq-ME</td>\n",
              "      <td>Traveling to the Happiest Country in the World!!</td>\n",
              "      <td>Yes Theory\\n6.65M subscribers\\nSUBSCRIBE\\n*BLA...</td>\n",
              "      <td>travel</td>\n",
              "      <td>yes theory\\n665m subscribers\\nsubscribe\\nblack...</td>\n",
              "    </tr>\n",
              "    <tr>\n",
              "      <th>4</th>\n",
              "      <td>_lcOX55Ef70</td>\n",
              "      <td>Solo in Paro Bhutan | Tiger's Nest visit | Bhu...</td>\n",
              "      <td>Tanya Khanijow\\n671K subscribers\\nSUBSCRIBE\\nH...</td>\n",
              "      <td>travel</td>\n",
              "      <td>tanya khanijow\\n671k subscribers\\nsubscribe\\nh...</td>\n",
              "    </tr>\n",
              "  </tbody>\n",
              "</table>\n",
              "</div>\n",
              "      <button class=\"colab-df-convert\" onclick=\"convertToInteractive('df-673d2dd3-847d-4a32-a05e-461bfdeaac64')\"\n",
              "              title=\"Convert this dataframe to an interactive table.\"\n",
              "              style=\"display:none;\">\n",
              "        \n",
              "  <svg xmlns=\"http://www.w3.org/2000/svg\" height=\"24px\"viewBox=\"0 0 24 24\"\n",
              "       width=\"24px\">\n",
              "    <path d=\"M0 0h24v24H0V0z\" fill=\"none\"/>\n",
              "    <path d=\"M18.56 5.44l.94 2.06.94-2.06 2.06-.94-2.06-.94-.94-2.06-.94 2.06-2.06.94zm-11 1L8.5 8.5l.94-2.06 2.06-.94-2.06-.94L8.5 2.5l-.94 2.06-2.06.94zm10 10l.94 2.06.94-2.06 2.06-.94-2.06-.94-.94-2.06-.94 2.06-2.06.94z\"/><path d=\"M17.41 7.96l-1.37-1.37c-.4-.4-.92-.59-1.43-.59-.52 0-1.04.2-1.43.59L10.3 9.45l-7.72 7.72c-.78.78-.78 2.05 0 2.83L4 21.41c.39.39.9.59 1.41.59.51 0 1.02-.2 1.41-.59l7.78-7.78 2.81-2.81c.8-.78.8-2.07 0-2.86zM5.41 20L4 18.59l7.72-7.72 1.47 1.35L5.41 20z\"/>\n",
              "  </svg>\n",
              "      </button>\n",
              "      \n",
              "  <style>\n",
              "    .colab-df-container {\n",
              "      display:flex;\n",
              "      flex-wrap:wrap;\n",
              "      gap: 12px;\n",
              "    }\n",
              "\n",
              "    .colab-df-convert {\n",
              "      background-color: #E8F0FE;\n",
              "      border: none;\n",
              "      border-radius: 50%;\n",
              "      cursor: pointer;\n",
              "      display: none;\n",
              "      fill: #1967D2;\n",
              "      height: 32px;\n",
              "      padding: 0 0 0 0;\n",
              "      width: 32px;\n",
              "    }\n",
              "\n",
              "    .colab-df-convert:hover {\n",
              "      background-color: #E2EBFA;\n",
              "      box-shadow: 0px 1px 2px rgba(60, 64, 67, 0.3), 0px 1px 3px 1px rgba(60, 64, 67, 0.15);\n",
              "      fill: #174EA6;\n",
              "    }\n",
              "\n",
              "    [theme=dark] .colab-df-convert {\n",
              "      background-color: #3B4455;\n",
              "      fill: #D2E3FC;\n",
              "    }\n",
              "\n",
              "    [theme=dark] .colab-df-convert:hover {\n",
              "      background-color: #434B5C;\n",
              "      box-shadow: 0px 1px 3px 1px rgba(0, 0, 0, 0.15);\n",
              "      filter: drop-shadow(0px 1px 2px rgba(0, 0, 0, 0.3));\n",
              "      fill: #FFFFFF;\n",
              "    }\n",
              "  </style>\n",
              "\n",
              "      <script>\n",
              "        const buttonEl =\n",
              "          document.querySelector('#df-673d2dd3-847d-4a32-a05e-461bfdeaac64 button.colab-df-convert');\n",
              "        buttonEl.style.display =\n",
              "          google.colab.kernel.accessAllowed ? 'block' : 'none';\n",
              "\n",
              "        async function convertToInteractive(key) {\n",
              "          const element = document.querySelector('#df-673d2dd3-847d-4a32-a05e-461bfdeaac64');\n",
              "          const dataTable =\n",
              "            await google.colab.kernel.invokeFunction('convertToInteractive',\n",
              "                                                     [key], {});\n",
              "          if (!dataTable) return;\n",
              "\n",
              "          const docLinkHtml = 'Like what you see? Visit the ' +\n",
              "            '<a target=\"_blank\" href=https://colab.research.google.com/notebooks/data_table.ipynb>data table notebook</a>'\n",
              "            + ' to learn more about interactive tables.';\n",
              "          element.innerHTML = '';\n",
              "          dataTable['output_type'] = 'display_data';\n",
              "          await google.colab.output.renderOutput(dataTable, element);\n",
              "          const docLink = document.createElement('div');\n",
              "          docLink.innerHTML = docLinkHtml;\n",
              "          element.appendChild(docLink);\n",
              "        }\n",
              "      </script>\n",
              "    </div>\n",
              "  </div>\n",
              "  "
            ]
          },
          "metadata": {},
          "execution_count": 13
        }
      ]
    },
    {
      "cell_type": "code",
      "source": [
        "# Importing the word tokenizer\n",
        "from nltk.tokenize import word_tokenize\n",
        "def tokenize(text):\n",
        "    tokens=word_tokenize(text)\n",
        "    return tokens"
      ],
      "metadata": {
        "id": "SmeWPxX4sDm9"
      },
      "execution_count": null,
      "outputs": []
    },
    {
      "cell_type": "code",
      "source": [
        "# Applying the tokenizer function\n",
        "data['text_tokenize']=data['text_nonpunct'].apply(lambda x:tokenize(x))"
      ],
      "metadata": {
        "id": "Uml3QLj0sH7P"
      },
      "execution_count": null,
      "outputs": []
    },
    {
      "cell_type": "code",
      "source": [
        "# Sample of the data after cleaning and tokenization\n",
        "data.head()"
      ],
      "metadata": {
        "colab": {
          "base_uri": "https://localhost:8080/",
          "height": 337
        },
        "id": "THxzN-DUsJyW",
        "outputId": "d7aafd6f-bfbd-4f7b-814a-ef49ac97bc55"
      },
      "execution_count": null,
      "outputs": [
        {
          "output_type": "execute_result",
          "data": {
            "text/plain": [
              "          link                                              title  \\\n",
              "0      JLZlCZ0  Ep 1| Travelling through North East India | Of...   \n",
              "1  i9E_Blai8vk      Welcome to Bali | Travel Vlog | Priscilla Lee   \n",
              "2   r284c-q8oY  My Solo Trip to ALASKA | Cruising From Vancouv...   \n",
              "3   Qmi-Xwq-ME   Traveling to the Happiest Country in the World!!   \n",
              "4  _lcOX55Ef70  Solo in Paro Bhutan | Tiger's Nest visit | Bhu...   \n",
              "\n",
              "                                         description category  \\\n",
              "0  Tanya Khanijow\\n671K subscribers\\nSUBSCRIBE\\nT...   travel   \n",
              "1  Priscilla Lee\\n45.6K subscribers\\nSUBSCRIBE\\n*...   travel   \n",
              "2  Allison Anderson\\n588K subscribers\\nSUBSCRIBE\\...   travel   \n",
              "3  Yes Theory\\n6.65M subscribers\\nSUBSCRIBE\\n*BLA...   travel   \n",
              "4  Tanya Khanijow\\n671K subscribers\\nSUBSCRIBE\\nH...   travel   \n",
              "\n",
              "                                       text_nonpunct  \\\n",
              "0  tanya khanijow\\n671k subscribers\\nsubscribe\\nt...   \n",
              "1  priscilla lee\\n456k subscribers\\nsubscribe\\ndi...   \n",
              "2  allison anderson\\n588k subscribers\\nsubscribe\\...   \n",
              "3  yes theory\\n665m subscribers\\nsubscribe\\nblack...   \n",
              "4  tanya khanijow\\n671k subscribers\\nsubscribe\\nh...   \n",
              "\n",
              "                                       text_tokenize  \n",
              "0  [tanya, khanijow, 671k, subscribers, subscribe...  \n",
              "1  [priscilla, lee, 456k, subscribers, subscribe,...  \n",
              "2  [allison, anderson, 588k, subscribers, subscri...  \n",
              "3  [yes, theory, 665m, subscribers, subscribe, bl...  \n",
              "4  [tanya, khanijow, 671k, subscribers, subscribe...  "
            ],
            "text/html": [
              "\n",
              "  <div id=\"df-90e55266-9bd7-4aea-b37b-e9ff02a969c0\">\n",
              "    <div class=\"colab-df-container\">\n",
              "      <div>\n",
              "<style scoped>\n",
              "    .dataframe tbody tr th:only-of-type {\n",
              "        vertical-align: middle;\n",
              "    }\n",
              "\n",
              "    .dataframe tbody tr th {\n",
              "        vertical-align: top;\n",
              "    }\n",
              "\n",
              "    .dataframe thead th {\n",
              "        text-align: right;\n",
              "    }\n",
              "</style>\n",
              "<table border=\"1\" class=\"dataframe\">\n",
              "  <thead>\n",
              "    <tr style=\"text-align: right;\">\n",
              "      <th></th>\n",
              "      <th>link</th>\n",
              "      <th>title</th>\n",
              "      <th>description</th>\n",
              "      <th>category</th>\n",
              "      <th>text_nonpunct</th>\n",
              "      <th>text_tokenize</th>\n",
              "    </tr>\n",
              "  </thead>\n",
              "  <tbody>\n",
              "    <tr>\n",
              "      <th>0</th>\n",
              "      <td>JLZlCZ0</td>\n",
              "      <td>Ep 1| Travelling through North East India | Of...</td>\n",
              "      <td>Tanya Khanijow\\n671K subscribers\\nSUBSCRIBE\\nT...</td>\n",
              "      <td>travel</td>\n",
              "      <td>tanya khanijow\\n671k subscribers\\nsubscribe\\nt...</td>\n",
              "      <td>[tanya, khanijow, 671k, subscribers, subscribe...</td>\n",
              "    </tr>\n",
              "    <tr>\n",
              "      <th>1</th>\n",
              "      <td>i9E_Blai8vk</td>\n",
              "      <td>Welcome to Bali | Travel Vlog | Priscilla Lee</td>\n",
              "      <td>Priscilla Lee\\n45.6K subscribers\\nSUBSCRIBE\\n*...</td>\n",
              "      <td>travel</td>\n",
              "      <td>priscilla lee\\n456k subscribers\\nsubscribe\\ndi...</td>\n",
              "      <td>[priscilla, lee, 456k, subscribers, subscribe,...</td>\n",
              "    </tr>\n",
              "    <tr>\n",
              "      <th>2</th>\n",
              "      <td>r284c-q8oY</td>\n",
              "      <td>My Solo Trip to ALASKA | Cruising From Vancouv...</td>\n",
              "      <td>Allison Anderson\\n588K subscribers\\nSUBSCRIBE\\...</td>\n",
              "      <td>travel</td>\n",
              "      <td>allison anderson\\n588k subscribers\\nsubscribe\\...</td>\n",
              "      <td>[allison, anderson, 588k, subscribers, subscri...</td>\n",
              "    </tr>\n",
              "    <tr>\n",
              "      <th>3</th>\n",
              "      <td>Qmi-Xwq-ME</td>\n",
              "      <td>Traveling to the Happiest Country in the World!!</td>\n",
              "      <td>Yes Theory\\n6.65M subscribers\\nSUBSCRIBE\\n*BLA...</td>\n",
              "      <td>travel</td>\n",
              "      <td>yes theory\\n665m subscribers\\nsubscribe\\nblack...</td>\n",
              "      <td>[yes, theory, 665m, subscribers, subscribe, bl...</td>\n",
              "    </tr>\n",
              "    <tr>\n",
              "      <th>4</th>\n",
              "      <td>_lcOX55Ef70</td>\n",
              "      <td>Solo in Paro Bhutan | Tiger's Nest visit | Bhu...</td>\n",
              "      <td>Tanya Khanijow\\n671K subscribers\\nSUBSCRIBE\\nH...</td>\n",
              "      <td>travel</td>\n",
              "      <td>tanya khanijow\\n671k subscribers\\nsubscribe\\nh...</td>\n",
              "      <td>[tanya, khanijow, 671k, subscribers, subscribe...</td>\n",
              "    </tr>\n",
              "  </tbody>\n",
              "</table>\n",
              "</div>\n",
              "      <button class=\"colab-df-convert\" onclick=\"convertToInteractive('df-90e55266-9bd7-4aea-b37b-e9ff02a969c0')\"\n",
              "              title=\"Convert this dataframe to an interactive table.\"\n",
              "              style=\"display:none;\">\n",
              "        \n",
              "  <svg xmlns=\"http://www.w3.org/2000/svg\" height=\"24px\"viewBox=\"0 0 24 24\"\n",
              "       width=\"24px\">\n",
              "    <path d=\"M0 0h24v24H0V0z\" fill=\"none\"/>\n",
              "    <path d=\"M18.56 5.44l.94 2.06.94-2.06 2.06-.94-2.06-.94-.94-2.06-.94 2.06-2.06.94zm-11 1L8.5 8.5l.94-2.06 2.06-.94-2.06-.94L8.5 2.5l-.94 2.06-2.06.94zm10 10l.94 2.06.94-2.06 2.06-.94-2.06-.94-.94-2.06-.94 2.06-2.06.94z\"/><path d=\"M17.41 7.96l-1.37-1.37c-.4-.4-.92-.59-1.43-.59-.52 0-1.04.2-1.43.59L10.3 9.45l-7.72 7.72c-.78.78-.78 2.05 0 2.83L4 21.41c.39.39.9.59 1.41.59.51 0 1.02-.2 1.41-.59l7.78-7.78 2.81-2.81c.8-.78.8-2.07 0-2.86zM5.41 20L4 18.59l7.72-7.72 1.47 1.35L5.41 20z\"/>\n",
              "  </svg>\n",
              "      </button>\n",
              "      \n",
              "  <style>\n",
              "    .colab-df-container {\n",
              "      display:flex;\n",
              "      flex-wrap:wrap;\n",
              "      gap: 12px;\n",
              "    }\n",
              "\n",
              "    .colab-df-convert {\n",
              "      background-color: #E8F0FE;\n",
              "      border: none;\n",
              "      border-radius: 50%;\n",
              "      cursor: pointer;\n",
              "      display: none;\n",
              "      fill: #1967D2;\n",
              "      height: 32px;\n",
              "      padding: 0 0 0 0;\n",
              "      width: 32px;\n",
              "    }\n",
              "\n",
              "    .colab-df-convert:hover {\n",
              "      background-color: #E2EBFA;\n",
              "      box-shadow: 0px 1px 2px rgba(60, 64, 67, 0.3), 0px 1px 3px 1px rgba(60, 64, 67, 0.15);\n",
              "      fill: #174EA6;\n",
              "    }\n",
              "\n",
              "    [theme=dark] .colab-df-convert {\n",
              "      background-color: #3B4455;\n",
              "      fill: #D2E3FC;\n",
              "    }\n",
              "\n",
              "    [theme=dark] .colab-df-convert:hover {\n",
              "      background-color: #434B5C;\n",
              "      box-shadow: 0px 1px 3px 1px rgba(0, 0, 0, 0.15);\n",
              "      filter: drop-shadow(0px 1px 2px rgba(0, 0, 0, 0.3));\n",
              "      fill: #FFFFFF;\n",
              "    }\n",
              "  </style>\n",
              "\n",
              "      <script>\n",
              "        const buttonEl =\n",
              "          document.querySelector('#df-90e55266-9bd7-4aea-b37b-e9ff02a969c0 button.colab-df-convert');\n",
              "        buttonEl.style.display =\n",
              "          google.colab.kernel.accessAllowed ? 'block' : 'none';\n",
              "\n",
              "        async function convertToInteractive(key) {\n",
              "          const element = document.querySelector('#df-90e55266-9bd7-4aea-b37b-e9ff02a969c0');\n",
              "          const dataTable =\n",
              "            await google.colab.kernel.invokeFunction('convertToInteractive',\n",
              "                                                     [key], {});\n",
              "          if (!dataTable) return;\n",
              "\n",
              "          const docLinkHtml = 'Like what you see? Visit the ' +\n",
              "            '<a target=\"_blank\" href=https://colab.research.google.com/notebooks/data_table.ipynb>data table notebook</a>'\n",
              "            + ' to learn more about interactive tables.';\n",
              "          element.innerHTML = '';\n",
              "          dataTable['output_type'] = 'display_data';\n",
              "          await google.colab.output.renderOutput(dataTable, element);\n",
              "          const docLink = document.createElement('div');\n",
              "          docLink.innerHTML = docLinkHtml;\n",
              "          element.appendChild(docLink);\n",
              "        }\n",
              "      </script>\n",
              "    </div>\n",
              "  </div>\n",
              "  "
            ]
          },
          "metadata": {},
          "execution_count": 16
        }
      ]
    },
    {
      "cell_type": "code",
      "source": [
        "from nltk.corpus import stopwords\n",
        "StopWords=stopwords.words('english')"
      ],
      "metadata": {
        "id": "CKRDQAYism4D"
      },
      "execution_count": null,
      "outputs": []
    },
    {
      "cell_type": "code",
      "source": [
        "def remove_stopwords(text):\n",
        "    text=[word for word in text if word not in StopWords]\n",
        "    return text"
      ],
      "metadata": {
        "id": "2BGkOE_CspgE"
      },
      "execution_count": null,
      "outputs": []
    },
    {
      "cell_type": "code",
      "source": [
        "# Removing the stop words from the tokenized data\n",
        "data['text_nonStopwords']=data['text_tokenize'].apply(lambda x:remove_stopwords(x))"
      ],
      "metadata": {
        "id": "rHl7-sLtswAM"
      },
      "execution_count": null,
      "outputs": []
    },
    {
      "cell_type": "code",
      "source": [
        "# Texts to Sequences\n",
        "from tensorflow import keras\n",
        "tokenizer = keras.preprocessing.text.Tokenizer()\n",
        "tokenizer.fit_on_texts(data['text_nonStopwords'])\n",
        "data['text_sequences'] = tokenizer.texts_to_sequences(data['text_nonStopwords'])"
      ],
      "metadata": {
        "id": "ldfNFpW5sxlM"
      },
      "execution_count": null,
      "outputs": []
    },
    {
      "cell_type": "code",
      "source": [
        "# Sample of the data set after converting the texts into sequences\n",
        "data.head()"
      ],
      "metadata": {
        "colab": {
          "base_uri": "https://localhost:8080/",
          "height": 441
        },
        "id": "OxgSHu1es0kF",
        "outputId": "710bc6a2-1783-4f12-c23e-6db18a79c54f"
      },
      "execution_count": null,
      "outputs": [
        {
          "output_type": "execute_result",
          "data": {
            "text/plain": [
              "          link                                              title  \\\n",
              "0      JLZlCZ0  Ep 1| Travelling through North East India | Of...   \n",
              "1  i9E_Blai8vk      Welcome to Bali | Travel Vlog | Priscilla Lee   \n",
              "2   r284c-q8oY  My Solo Trip to ALASKA | Cruising From Vancouv...   \n",
              "3   Qmi-Xwq-ME   Traveling to the Happiest Country in the World!!   \n",
              "4  _lcOX55Ef70  Solo in Paro Bhutan | Tiger's Nest visit | Bhu...   \n",
              "\n",
              "                                         description category  \\\n",
              "0  Tanya Khanijow\\n671K subscribers\\nSUBSCRIBE\\nT...   travel   \n",
              "1  Priscilla Lee\\n45.6K subscribers\\nSUBSCRIBE\\n*...   travel   \n",
              "2  Allison Anderson\\n588K subscribers\\nSUBSCRIBE\\...   travel   \n",
              "3  Yes Theory\\n6.65M subscribers\\nSUBSCRIBE\\n*BLA...   travel   \n",
              "4  Tanya Khanijow\\n671K subscribers\\nSUBSCRIBE\\nH...   travel   \n",
              "\n",
              "                                       text_nonpunct  \\\n",
              "0  tanya khanijow\\n671k subscribers\\nsubscribe\\nt...   \n",
              "1  priscilla lee\\n456k subscribers\\nsubscribe\\ndi...   \n",
              "2  allison anderson\\n588k subscribers\\nsubscribe\\...   \n",
              "3  yes theory\\n665m subscribers\\nsubscribe\\nblack...   \n",
              "4  tanya khanijow\\n671k subscribers\\nsubscribe\\nh...   \n",
              "\n",
              "                                       text_tokenize  \\\n",
              "0  [tanya, khanijow, 671k, subscribers, subscribe...   \n",
              "1  [priscilla, lee, 456k, subscribers, subscribe,...   \n",
              "2  [allison, anderson, 588k, subscribers, subscri...   \n",
              "3  [yes, theory, 665m, subscribers, subscribe, bl...   \n",
              "4  [tanya, khanijow, 671k, subscribers, subscribe...   \n",
              "\n",
              "                                   text_nonStopwords  \\\n",
              "0  [tanya, khanijow, 671k, subscribers, subscribe...   \n",
              "1  [priscilla, lee, 456k, subscribers, subscribe,...   \n",
              "2  [allison, anderson, 588k, subscribers, subscri...   \n",
              "3  [yes, theory, 665m, subscribers, subscribe, bl...   \n",
              "4  [tanya, khanijow, 671k, subscribers, subscribe...   \n",
              "\n",
              "                                      text_sequences  \n",
              "0  [1500, 1600, 1416, 3, 1, 273, 4447, 256, 252, ...  \n",
              "1  [7347, 319, 2161, 3, 1, 869, 28, 1417, 2910, 6...  \n",
              "2  [5536, 2621, 5537, 3, 1, 584, 672, 225, 7349, ...  \n",
              "3  [911, 1976, 2912, 3, 1, 503, 1843, 1501, 5538,...  \n",
              "4  [1500, 1600, 1416, 3, 1, 19, 620, 41, 117, 444...  "
            ],
            "text/html": [
              "\n",
              "  <div id=\"df-1395c085-c193-4bcb-b531-54fc68915554\">\n",
              "    <div class=\"colab-df-container\">\n",
              "      <div>\n",
              "<style scoped>\n",
              "    .dataframe tbody tr th:only-of-type {\n",
              "        vertical-align: middle;\n",
              "    }\n",
              "\n",
              "    .dataframe tbody tr th {\n",
              "        vertical-align: top;\n",
              "    }\n",
              "\n",
              "    .dataframe thead th {\n",
              "        text-align: right;\n",
              "    }\n",
              "</style>\n",
              "<table border=\"1\" class=\"dataframe\">\n",
              "  <thead>\n",
              "    <tr style=\"text-align: right;\">\n",
              "      <th></th>\n",
              "      <th>link</th>\n",
              "      <th>title</th>\n",
              "      <th>description</th>\n",
              "      <th>category</th>\n",
              "      <th>text_nonpunct</th>\n",
              "      <th>text_tokenize</th>\n",
              "      <th>text_nonStopwords</th>\n",
              "      <th>text_sequences</th>\n",
              "    </tr>\n",
              "  </thead>\n",
              "  <tbody>\n",
              "    <tr>\n",
              "      <th>0</th>\n",
              "      <td>JLZlCZ0</td>\n",
              "      <td>Ep 1| Travelling through North East India | Of...</td>\n",
              "      <td>Tanya Khanijow\\n671K subscribers\\nSUBSCRIBE\\nT...</td>\n",
              "      <td>travel</td>\n",
              "      <td>tanya khanijow\\n671k subscribers\\nsubscribe\\nt...</td>\n",
              "      <td>[tanya, khanijow, 671k, subscribers, subscribe...</td>\n",
              "      <td>[tanya, khanijow, 671k, subscribers, subscribe...</td>\n",
              "      <td>[1500, 1600, 1416, 3, 1, 273, 4447, 256, 252, ...</td>\n",
              "    </tr>\n",
              "    <tr>\n",
              "      <th>1</th>\n",
              "      <td>i9E_Blai8vk</td>\n",
              "      <td>Welcome to Bali | Travel Vlog | Priscilla Lee</td>\n",
              "      <td>Priscilla Lee\\n45.6K subscribers\\nSUBSCRIBE\\n*...</td>\n",
              "      <td>travel</td>\n",
              "      <td>priscilla lee\\n456k subscribers\\nsubscribe\\ndi...</td>\n",
              "      <td>[priscilla, lee, 456k, subscribers, subscribe,...</td>\n",
              "      <td>[priscilla, lee, 456k, subscribers, subscribe,...</td>\n",
              "      <td>[7347, 319, 2161, 3, 1, 869, 28, 1417, 2910, 6...</td>\n",
              "    </tr>\n",
              "    <tr>\n",
              "      <th>2</th>\n",
              "      <td>r284c-q8oY</td>\n",
              "      <td>My Solo Trip to ALASKA | Cruising From Vancouv...</td>\n",
              "      <td>Allison Anderson\\n588K subscribers\\nSUBSCRIBE\\...</td>\n",
              "      <td>travel</td>\n",
              "      <td>allison anderson\\n588k subscribers\\nsubscribe\\...</td>\n",
              "      <td>[allison, anderson, 588k, subscribers, subscri...</td>\n",
              "      <td>[allison, anderson, 588k, subscribers, subscri...</td>\n",
              "      <td>[5536, 2621, 5537, 3, 1, 584, 672, 225, 7349, ...</td>\n",
              "    </tr>\n",
              "    <tr>\n",
              "      <th>3</th>\n",
              "      <td>Qmi-Xwq-ME</td>\n",
              "      <td>Traveling to the Happiest Country in the World!!</td>\n",
              "      <td>Yes Theory\\n6.65M subscribers\\nSUBSCRIBE\\n*BLA...</td>\n",
              "      <td>travel</td>\n",
              "      <td>yes theory\\n665m subscribers\\nsubscribe\\nblack...</td>\n",
              "      <td>[yes, theory, 665m, subscribers, subscribe, bl...</td>\n",
              "      <td>[yes, theory, 665m, subscribers, subscribe, bl...</td>\n",
              "      <td>[911, 1976, 2912, 3, 1, 503, 1843, 1501, 5538,...</td>\n",
              "    </tr>\n",
              "    <tr>\n",
              "      <th>4</th>\n",
              "      <td>_lcOX55Ef70</td>\n",
              "      <td>Solo in Paro Bhutan | Tiger's Nest visit | Bhu...</td>\n",
              "      <td>Tanya Khanijow\\n671K subscribers\\nSUBSCRIBE\\nH...</td>\n",
              "      <td>travel</td>\n",
              "      <td>tanya khanijow\\n671k subscribers\\nsubscribe\\nh...</td>\n",
              "      <td>[tanya, khanijow, 671k, subscribers, subscribe...</td>\n",
              "      <td>[tanya, khanijow, 671k, subscribers, subscribe...</td>\n",
              "      <td>[1500, 1600, 1416, 3, 1, 19, 620, 41, 117, 444...</td>\n",
              "    </tr>\n",
              "  </tbody>\n",
              "</table>\n",
              "</div>\n",
              "      <button class=\"colab-df-convert\" onclick=\"convertToInteractive('df-1395c085-c193-4bcb-b531-54fc68915554')\"\n",
              "              title=\"Convert this dataframe to an interactive table.\"\n",
              "              style=\"display:none;\">\n",
              "        \n",
              "  <svg xmlns=\"http://www.w3.org/2000/svg\" height=\"24px\"viewBox=\"0 0 24 24\"\n",
              "       width=\"24px\">\n",
              "    <path d=\"M0 0h24v24H0V0z\" fill=\"none\"/>\n",
              "    <path d=\"M18.56 5.44l.94 2.06.94-2.06 2.06-.94-2.06-.94-.94-2.06-.94 2.06-2.06.94zm-11 1L8.5 8.5l.94-2.06 2.06-.94-2.06-.94L8.5 2.5l-.94 2.06-2.06.94zm10 10l.94 2.06.94-2.06 2.06-.94-2.06-.94-.94-2.06-.94 2.06-2.06.94z\"/><path d=\"M17.41 7.96l-1.37-1.37c-.4-.4-.92-.59-1.43-.59-.52 0-1.04.2-1.43.59L10.3 9.45l-7.72 7.72c-.78.78-.78 2.05 0 2.83L4 21.41c.39.39.9.59 1.41.59.51 0 1.02-.2 1.41-.59l7.78-7.78 2.81-2.81c.8-.78.8-2.07 0-2.86zM5.41 20L4 18.59l7.72-7.72 1.47 1.35L5.41 20z\"/>\n",
              "  </svg>\n",
              "      </button>\n",
              "      \n",
              "  <style>\n",
              "    .colab-df-container {\n",
              "      display:flex;\n",
              "      flex-wrap:wrap;\n",
              "      gap: 12px;\n",
              "    }\n",
              "\n",
              "    .colab-df-convert {\n",
              "      background-color: #E8F0FE;\n",
              "      border: none;\n",
              "      border-radius: 50%;\n",
              "      cursor: pointer;\n",
              "      display: none;\n",
              "      fill: #1967D2;\n",
              "      height: 32px;\n",
              "      padding: 0 0 0 0;\n",
              "      width: 32px;\n",
              "    }\n",
              "\n",
              "    .colab-df-convert:hover {\n",
              "      background-color: #E2EBFA;\n",
              "      box-shadow: 0px 1px 2px rgba(60, 64, 67, 0.3), 0px 1px 3px 1px rgba(60, 64, 67, 0.15);\n",
              "      fill: #174EA6;\n",
              "    }\n",
              "\n",
              "    [theme=dark] .colab-df-convert {\n",
              "      background-color: #3B4455;\n",
              "      fill: #D2E3FC;\n",
              "    }\n",
              "\n",
              "    [theme=dark] .colab-df-convert:hover {\n",
              "      background-color: #434B5C;\n",
              "      box-shadow: 0px 1px 3px 1px rgba(0, 0, 0, 0.15);\n",
              "      filter: drop-shadow(0px 1px 2px rgba(0, 0, 0, 0.3));\n",
              "      fill: #FFFFFF;\n",
              "    }\n",
              "  </style>\n",
              "\n",
              "      <script>\n",
              "        const buttonEl =\n",
              "          document.querySelector('#df-1395c085-c193-4bcb-b531-54fc68915554 button.colab-df-convert');\n",
              "        buttonEl.style.display =\n",
              "          google.colab.kernel.accessAllowed ? 'block' : 'none';\n",
              "\n",
              "        async function convertToInteractive(key) {\n",
              "          const element = document.querySelector('#df-1395c085-c193-4bcb-b531-54fc68915554');\n",
              "          const dataTable =\n",
              "            await google.colab.kernel.invokeFunction('convertToInteractive',\n",
              "                                                     [key], {});\n",
              "          if (!dataTable) return;\n",
              "\n",
              "          const docLinkHtml = 'Like what you see? Visit the ' +\n",
              "            '<a target=\"_blank\" href=https://colab.research.google.com/notebooks/data_table.ipynb>data table notebook</a>'\n",
              "            + ' to learn more about interactive tables.';\n",
              "          element.innerHTML = '';\n",
              "          dataTable['output_type'] = 'display_data';\n",
              "          await google.colab.output.renderOutput(dataTable, element);\n",
              "          const docLink = document.createElement('div');\n",
              "          docLink.innerHTML = docLinkHtml;\n",
              "          element.appendChild(docLink);\n",
              "        }\n",
              "      </script>\n",
              "    </div>\n",
              "  </div>\n",
              "  "
            ]
          },
          "metadata": {},
          "execution_count": 21
        }
      ]
    },
    {
      "cell_type": "code",
      "source": [
        "# Calculating the shape of the input data\n",
        "input_shape=int(sum(data['text_sequences'].apply(lambda x:len(x)))/len(data['text_sequences']))"
      ],
      "metadata": {
        "id": "EzAgq72ms3ce"
      },
      "execution_count": null,
      "outputs": []
    },
    {
      "cell_type": "code",
      "source": [
        "# Sequence Padding\n",
        "from keras.preprocessing.sequence import pad_sequences\n",
        "X=pad_sequences(data['text_sequences'],maxlen=45)"
      ],
      "metadata": {
        "id": "r9lWMyzos6hL"
      },
      "execution_count": null,
      "outputs": []
    },
    {
      "cell_type": "code",
      "source": [
        "y=data['category']"
      ],
      "metadata": {
        "id": "h9IvLotTs8Qf"
      },
      "execution_count": null,
      "outputs": []
    },
    {
      "cell_type": "code",
      "source": [
        "# Label encoding \n",
        "from sklearn.preprocessing import LabelEncoder\n",
        "LB=LabelEncoder()\n",
        "y=LB.fit_transform(y)"
      ],
      "metadata": {
        "id": "BsgQDrxus9w6"
      },
      "execution_count": null,
      "outputs": []
    },
    {
      "cell_type": "code",
      "source": [
        "# Test-train splitting\n",
        "from sklearn.model_selection import train_test_split\n",
        "X_train, X_test, y_train, y_test = train_test_split(X, y, test_size=0.20, \n",
        "                                                    random_state=100) # encoded_matrix\n",
        "print(\"X_train : \\n\",X_train)\n",
        "print(\"X_test  : \\n\",X_test)"
      ],
      "metadata": {
        "colab": {
          "base_uri": "https://localhost:8080/"
        },
        "id": "SyfCygSks_ZU",
        "outputId": "bffce862-262c-4796-c552-4ec1d4f5006e"
      },
      "execution_count": null,
      "outputs": [
        {
          "output_type": "stream",
          "name": "stdout",
          "text": [
            "X_train : \n",
            " [[  884   300   438 ...  4086  4105     2]\n",
            " [    0     0     0 ...    18 15975     2]\n",
            " [    0     0     0 ...   140  9344     2]\n",
            " ...\n",
            " [   32   130    32 ...     6    59     2]\n",
            " [20983 20984    67 ...  1340     2   346]\n",
            " [    0     0     0 ...     6   179     2]]\n",
            "X_test  : \n",
            " [[    0     0     0 ...     5  1606     2]\n",
            " [    0     0     0 ...   449     3     1]\n",
            " [    0     0     0 ... 13301 13302     2]\n",
            " ...\n",
            " [    0     0     0 ...   334  1293     2]\n",
            " [    0     0     0 ... 19723 19724     2]\n",
            " [  163  9790     3 ...   230    50     2]]\n"
          ]
        }
      ]
    },
    {
      "cell_type": "code",
      "source": [
        "print(\"X_train shape : \",X_train.shape)\n",
        "print(\"X_test  shape : \",X_test.shape)"
      ],
      "metadata": {
        "colab": {
          "base_uri": "https://localhost:8080/"
        },
        "id": "JntvhX-StB6i",
        "outputId": "537738dc-aec6-4382-8624-a549dabb8c74"
      },
      "execution_count": null,
      "outputs": [
        {
          "output_type": "stream",
          "name": "stdout",
          "text": [
            "X_train shape :  (2879, 45)\n",
            "X_test  shape :  (720, 45)\n"
          ]
        }
      ]
    },
    {
      "cell_type": "code",
      "source": [
        "Max_words=(max(map(max, X)))+1"
      ],
      "metadata": {
        "id": "9xM4UjLntEBU"
      },
      "execution_count": null,
      "outputs": []
    },
    {
      "cell_type": "code",
      "source": [
        "Max_words"
      ],
      "metadata": {
        "colab": {
          "base_uri": "https://localhost:8080/"
        },
        "id": "VXjT9nZUtF7S",
        "outputId": "9e4cecf4-b466-4775-b134-f8e5a37ec4a6"
      },
      "execution_count": null,
      "outputs": [
        {
          "output_type": "execute_result",
          "data": {
            "text/plain": [
              "25232"
            ]
          },
          "metadata": {},
          "execution_count": 29
        }
      ]
    },
    {
      "cell_type": "code",
      "source": [
        "# Defining the keras sequential model\n",
        "model = keras.models.Sequential([\n",
        "    keras.layers.Embedding(Max_words, 64, input_shape= [input_shape]), \n",
        "    keras.layers.GRU(32),\n",
        "    keras.layers.Dense(4, activation=\"softmax\")\n",
        "])"
      ],
      "metadata": {
        "id": "uNfNFmHLtHZs"
      },
      "execution_count": null,
      "outputs": []
    },
    {
      "cell_type": "code",
      "source": [
        "print(model.summary())"
      ],
      "metadata": {
        "colab": {
          "base_uri": "https://localhost:8080/"
        },
        "id": "2zWOyvE-tJM0",
        "outputId": "a4718759-776a-465c-a7bf-46c81c70f0ce"
      },
      "execution_count": null,
      "outputs": [
        {
          "output_type": "stream",
          "name": "stdout",
          "text": [
            "Model: \"sequential\"\n",
            "_________________________________________________________________\n",
            " Layer (type)                Output Shape              Param #   \n",
            "=================================================================\n",
            " embedding (Embedding)       (None, 45, 64)            1614848   \n",
            "                                                                 \n",
            " gru (GRU)                   (None, 32)                9408      \n",
            "                                                                 \n",
            " dense (Dense)               (None, 4)                 132       \n",
            "                                                                 \n",
            "=================================================================\n",
            "Total params: 1,624,388\n",
            "Trainable params: 1,624,388\n",
            "Non-trainable params: 0\n",
            "_________________________________________________________________\n",
            "None\n"
          ]
        }
      ]
    },
    {
      "cell_type": "code",
      "source": [
        "# Model visualization\n",
        "from tensorflow.keras.utils import plot_model\n",
        "plot_model(model, show_shapes=True)"
      ],
      "metadata": {
        "colab": {
          "base_uri": "https://localhost:8080/",
          "height": 422
        },
        "id": "R0tAReUatLe6",
        "outputId": "7cc79b40-e3f5-4dca-95b6-12a64546421c"
      },
      "execution_count": null,
      "outputs": [
        {
          "output_type": "execute_result",
          "data": {
            "text/plain": [
              "<IPython.core.display.Image object>"
            ],
            "image/png": "[encoded data removed]"
          },
          "metadata": {},
          "execution_count": 32
        }
      ]
    },
    {
      "cell_type": "code",
      "source": [
        "# Compiling the model\n",
        "model.compile(loss='sparse_categorical_crossentropy', optimizer=\"adam\", metrics=[\"accuracy\"])\n",
        "\n",
        "# Training and evaluating the model\n",
        "history = model.fit(X_train, y_train, epochs=25, batch_size=32, validation_split=0.2)"
      ],
      "metadata": {
        "colab": {
          "base_uri": "https://localhost:8080/"
        },
        "id": "BXc0Oe7qtOVF",
        "outputId": "cf90b58b-5587-4f69-cd53-90df552d3736"
      },
      "execution_count": null,
      "outputs": [
        {
          "output_type": "stream",
          "name": "stdout",
          "text": [
            "Epoch 1/25\n",
            "72/72 [==============================] - 6s 45ms/step - loss: 1.2988 - accuracy: 0.3977 - val_loss: 0.9878 - val_accuracy: 0.5312\n",
            "Epoch 2/25\n",
            "72/72 [==============================] - 3s 38ms/step - loss: 0.6942 - accuracy: 0.6817 - val_loss: 0.4962 - val_accuracy: 0.8351\n",
            "Epoch 3/25\n",
            "72/72 [==============================] - 3s 38ms/step - loss: 0.2738 - accuracy: 0.9210 - val_loss: 0.3280 - val_accuracy: 0.8906\n",
            "Epoch 4/25\n",
            "72/72 [==============================] - 3s 37ms/step - loss: 0.0941 - accuracy: 0.9809 - val_loss: 0.3168 - val_accuracy: 0.8872\n",
            "Epoch 5/25\n",
            "72/72 [==============================] - 3s 38ms/step - loss: 0.0411 - accuracy: 0.9944 - val_loss: 0.3819 - val_accuracy: 0.8802\n",
            "Epoch 6/25\n",
            "72/72 [==============================] - 3s 38ms/step - loss: 0.0272 - accuracy: 0.9965 - val_loss: 0.3814 - val_accuracy: 0.8958\n",
            "Epoch 7/25\n",
            "72/72 [==============================] - 3s 38ms/step - loss: 0.0184 - accuracy: 0.9974 - val_loss: 0.3327 - val_accuracy: 0.8976\n",
            "Epoch 8/25\n",
            "72/72 [==============================] - 3s 37ms/step - loss: 0.0175 - accuracy: 0.9965 - val_loss: 0.3511 - val_accuracy: 0.9028\n",
            "Epoch 9/25\n",
            "72/72 [==============================] - 3s 37ms/step - loss: 0.0123 - accuracy: 0.9970 - val_loss: 0.3541 - val_accuracy: 0.8941\n",
            "Epoch 10/25\n",
            "72/72 [==============================] - 3s 38ms/step - loss: 0.0156 - accuracy: 0.9965 - val_loss: 0.3861 - val_accuracy: 0.8993\n",
            "Epoch 11/25\n",
            "72/72 [==============================] - 3s 38ms/step - loss: 0.0119 - accuracy: 0.9970 - val_loss: 0.3684 - val_accuracy: 0.8993\n",
            "Epoch 12/25\n",
            "72/72 [==============================] - 3s 38ms/step - loss: 0.0107 - accuracy: 0.9974 - val_loss: 0.4303 - val_accuracy: 0.8854\n",
            "Epoch 13/25\n",
            "72/72 [==============================] - 3s 48ms/step - loss: 0.0122 - accuracy: 0.9961 - val_loss: 0.4212 - val_accuracy: 0.8906\n",
            "Epoch 14/25\n",
            "72/72 [==============================] - 3s 39ms/step - loss: 0.0101 - accuracy: 0.9974 - val_loss: 0.4350 - val_accuracy: 0.8854\n",
            "Epoch 15/25\n",
            "72/72 [==============================] - 3s 38ms/step - loss: 0.0080 - accuracy: 0.9974 - val_loss: 0.4565 - val_accuracy: 0.8872\n",
            "Epoch 16/25\n",
            "72/72 [==============================] - 4s 53ms/step - loss: 0.0088 - accuracy: 0.9974 - val_loss: 0.4635 - val_accuracy: 0.8889\n",
            "Epoch 17/25\n",
            "72/72 [==============================] - 5s 67ms/step - loss: 0.0069 - accuracy: 0.9970 - val_loss: 0.4978 - val_accuracy: 0.8854\n",
            "Epoch 18/25\n",
            "72/72 [==============================] - 5s 67ms/step - loss: 0.0074 - accuracy: 0.9970 - val_loss: 0.4937 - val_accuracy: 0.8854\n",
            "Epoch 19/25\n",
            "72/72 [==============================] - 5s 73ms/step - loss: 0.0071 - accuracy: 0.9970 - val_loss: 0.5626 - val_accuracy: 0.8785\n",
            "Epoch 20/25\n",
            "72/72 [==============================] - 5s 72ms/step - loss: 0.0057 - accuracy: 0.9974 - val_loss: 0.5501 - val_accuracy: 0.8785\n",
            "Epoch 21/25\n",
            "72/72 [==============================] - 5s 67ms/step - loss: 0.0062 - accuracy: 0.9974 - val_loss: 0.5491 - val_accuracy: 0.8750\n",
            "Epoch 22/25\n",
            "72/72 [==============================] - 3s 41ms/step - loss: 0.0061 - accuracy: 0.9974 - val_loss: 0.5679 - val_accuracy: 0.8767\n",
            "Epoch 23/25\n",
            "72/72 [==============================] - 3s 37ms/step - loss: 0.0057 - accuracy: 0.9978 - val_loss: 0.5879 - val_accuracy: 0.8750\n",
            "Epoch 24/25\n",
            "72/72 [==============================] - 3s 37ms/step - loss: 0.0052 - accuracy: 0.9970 - val_loss: 0.5754 - val_accuracy: 0.8819\n",
            "Epoch 25/25\n",
            "72/72 [==============================] - 3s 38ms/step - loss: 0.0053 - accuracy: 0.9970 - val_loss: 0.5915 - val_accuracy: 0.8750\n"
          ]
        }
      ]
    },
    {
      "cell_type": "code",
      "source": [
        "# plot the learning curves\n",
        "pd.DataFrame(history.history).plot(figsize=(12, 8))\n",
        "plt.grid(True)\n",
        "plt.gca().set_ylim(0, 1) # set the vertical range to [0-1]\n",
        "plt.show()\n",
        "\n",
        "# Evaluate the model\n",
        "model_evaluate = model.evaluate(X_test, y_test)\n",
        "print(\"Loss     : \",model_evaluate[0])\n",
        "print(\"accuracy : \",model_evaluate[1])"
      ],
      "metadata": {
        "colab": {
          "base_uri": "https://localhost:8080/",
          "height": 540
        },
        "id": "_ksL6kMmtQnz",
        "outputId": "4d023402-e48b-475e-cadb-46cb13c0b0f3"
      },
      "execution_count": null,
      "outputs": [
        {
          "output_type": "display_data",
          "data": {
            "text/plain": [
              "<Figure size 864x576 with 1 Axes>"
            ],
            "image/png": "[encoded data removed]"
          },
          "metadata": {
            "needs_background": "light"
          }
        },
        {
          "output_type": "stream",
          "name": "stdout",
          "text": [
            "23/23 [==============================] - 1s 11ms/step - loss: 0.5543 - accuracy: 0.8708\n",
            "Loss     :  0.5543165802955627\n",
            "accuracy :  0.8708333373069763\n"
          ]
        }
      ]
    },
    {
      "cell_type": "code",
      "source": [
        "y_pred = (model.predict(X_test).argmax(axis=-1)).tolist()\n",
        "\n",
        "class_names = LB.classes_\n",
        "\n",
        "# Compute classification report\n",
        "from sklearn.metrics import classification_report, confusion_matrix\n",
        "print(\"Classification report : \\n\",classification_report(y_test, y_pred, target_names = class_names))\n",
        "\n",
        "# Function to draw confusion matrix\n",
        "import seaborn as sns\n",
        "def draw_confusion_matrix(true, preds, normalize=None):\n",
        "  # Compute confusion matrix\n",
        "  conf_matx = confusion_matrix(true, preds, normalize = normalize)\n",
        "  conf_matx = np.round(conf_matx, 2)\n",
        "  # print(conf_matx)\n",
        "\n",
        "  # plt.subplots(figsize=(14,8))\n",
        "  sns.heatmap(conf_matx, annot=True, annot_kws={\"size\": 12},fmt=\"g\", cbar=False)\n",
        "  plt.show()\n",
        "\n",
        "print(\"Confusion matrix : \\n\")\n",
        "draw_confusion_matrix(y_test, y_pred)"
      ],
      "metadata": {
        "colab": {
          "base_uri": "https://localhost:8080/",
          "height": 515
        },
        "id": "5WLso_56tpZi",
        "outputId": "1b3a11f5-60c7-4680-8e72-453e0076f2a5"
      },
      "execution_count": null,
      "outputs": [
        {
          "output_type": "stream",
          "name": "stdout",
          "text": [
            "Classification report : \n",
            "               precision    recall  f1-score   support\n",
            "\n",
            "   art_music       0.95      0.94      0.94       193\n",
            "        food       0.82      0.82      0.82       170\n",
            "     history       0.84      0.90      0.87       110\n",
            "      travel       0.86      0.84      0.85       247\n",
            "\n",
            "    accuracy                           0.87       720\n",
            "   macro avg       0.87      0.87      0.87       720\n",
            "weighted avg       0.87      0.87      0.87       720\n",
            "\n",
            "Confusion matrix : \n",
            "\n"
          ]
        },
        {
          "output_type": "display_data",
          "data": {
            "text/plain": [
              "<Figure size 432x288 with 1 Axes>"
            ],
            "image/png": "[encoded data removed]"
          },
          "metadata": {
            "needs_background": "light"
          }
        }
      ]
    },
    {
      "cell_type": "code",
      "source": [
        ""
      ],
      "metadata": {
        "id": "rrosFjRFtsoW"
      },
      "execution_count": null,
      "outputs": []
    }
  ]
}